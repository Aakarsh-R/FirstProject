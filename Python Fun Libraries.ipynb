{
 "cells": [
  {
   "cell_type": "code",
   "execution_count": 1,
   "metadata": {},
   "outputs": [
    {
     "name": "stdout",
     "output_type": "stream",
     "text": [
      "Hello world\n"
     ]
    }
   ],
   "source": [
    "print(\"Hello world\")"
   ]
  },
  {
   "cell_type": "markdown",
   "metadata": {},
   "source": [
    "---"
   ]
  },
  {
   "cell_type": "code",
   "execution_count": 2,
   "metadata": {},
   "outputs": [],
   "source": [
    "# Emoji"
   ]
  },
  {
   "cell_type": "code",
   "execution_count": 5,
   "metadata": {},
   "outputs": [
    {
     "name": "stdout",
     "output_type": "stream",
     "text": [
      "👍\n"
     ]
    }
   ],
   "source": [
    "from emoji import emojize\n",
    "print(emojize(\":thumbs_up:\"))"
   ]
  },
  {
   "cell_type": "code",
   "execution_count": 11,
   "metadata": {},
   "outputs": [
    {
     "name": "stdout",
     "output_type": "stream",
     "text": [
      "There is a 🐍 in my boot !\n"
     ]
    }
   ],
   "source": [
    "from emoji import emojize\n",
    "emojified = emojize(\"There is a :snake: in my boot !\")\n",
    "print(emojified)"
   ]
  },
  {
   "cell_type": "markdown",
   "metadata": {},
   "source": [
    "---"
   ]
  },
  {
   "cell_type": "code",
   "execution_count": 1,
   "metadata": {},
   "outputs": [],
   "source": [
    "# ART"
   ]
  },
  {
   "cell_type": "code",
   "execution_count": 9,
   "metadata": {},
   "outputs": [
    {
     "name": "stdout",
     "output_type": "stream",
     "text": [
      " _   _        _  _         __        __              _      _  _ \n",
      "| | | |  ___ | || |  ___   \\ \\      / /  ___   _ __ | |  __| || |\n",
      "| |_| | / _ \\| || | / _ \\   \\ \\ /\\ / /  / _ \\ | '__|| | / _` || |\n",
      "|  _  ||  __/| || || (_) |   \\ V  V /  | (_) || |   | || (_| ||_|\n",
      "|_| |_| \\___||_||_| \\___/     \\_/\\_/    \\___/ |_|   |_| \\__,_|(_)\n",
      "                                                                 \n",
      "\n"
     ]
    }
   ],
   "source": [
    "from art import *\n",
    "tprint(\"Hello World!\")"
   ]
  },
  {
   "cell_type": "markdown",
   "metadata": {},
   "source": [
    "---"
   ]
  },
  {
   "cell_type": "code",
   "execution_count": null,
   "metadata": {},
   "outputs": [],
   "source": [
    "# Disassemble Python"
   ]
  },
  {
   "cell_type": "code",
   "execution_count": 14,
   "metadata": {},
   "outputs": [
    {
     "name": "stdout",
     "output_type": "stream",
     "text": [
      "  5           0 LOAD_GLOBAL              0 (str)\n",
      "              2 LOAD_FAST                0 (number)\n",
      "              4 CALL_FUNCTION            1\n",
      "              6 LOAD_GLOBAL              0 (str)\n",
      "              8 LOAD_FAST                0 (number)\n",
      "             10 CALL_FUNCTION            1\n",
      "             12 BINARY_ADD\n",
      "             14 RETURN_VALUE\n",
      "  8           0 LOAD_GLOBAL              0 (print)\n",
      "              2 LOAD_CONST               1 ('Hello')\n",
      "              4 LOAD_FAST                0 (string)\n",
      "              6 CALL_FUNCTION            2\n",
      "              8 POP_TOP\n",
      "             10 LOAD_CONST               0 (None)\n",
      "             12 RETURN_VALUE\n"
     ]
    }
   ],
   "source": [
    "import dis\n",
    "  \n",
    "\n",
    "def test(number):\n",
    "    return (str(number)+str(number))\n",
    "  \n",
    "def newFunc(string):\n",
    "    print(\"Hello\", string)\n",
    "\n",
    "# This will display the\n",
    "# disassembly of test():\n",
    "dis.dis(test)\n",
    "  \n",
    "# This will display the\n",
    "# disassembly of newFunc()\n",
    "dis.dis(newFunc)"
   ]
  },
  {
   "cell_type": "markdown",
   "metadata": {},
   "source": [
    "---"
   ]
  },
  {
   "cell_type": "code",
   "execution_count": null,
   "metadata": {},
   "outputs": [],
   "source": [
    "# Antigravity"
   ]
  },
  {
   "cell_type": "code",
   "execution_count": 15,
   "metadata": {},
   "outputs": [],
   "source": [
    "import antigravity"
   ]
  },
  {
   "cell_type": "code",
   "execution_count": null,
   "metadata": {},
   "outputs": [],
   "source": [
    "# This opens up a page in your web browser which contains a comical abstract of Python developed for your delight. \n",
    "# Congratulations! You know have the ability to fly or for now the ability to visit this link, \n",
    "# https://xkcd.com/353/."
   ]
  },
  {
   "cell_type": "code",
   "execution_count": null,
   "metadata": {},
   "outputs": [],
   "source": []
  },
  {
   "cell_type": "code",
   "execution_count": null,
   "metadata": {},
   "outputs": [],
   "source": []
  },
  {
   "cell_type": "code",
   "execution_count": null,
   "metadata": {},
   "outputs": [],
   "source": [
    "# Turtle"
   ]
  },
  {
   "cell_type": "code",
   "execution_count": 1,
   "metadata": {},
   "outputs": [],
   "source": [
    "import turtle\n",
    "\n",
    "myTurtle = turtle.Turtle()\n",
    "#myWin = turtle.Screen()\n",
    "  \n",
    "# Turtle to draw a spiral\n",
    "def drawSpiral(myTurtle, linelen):\n",
    "    \n",
    "    if linelen == -200:\n",
    "        return \"\"\n",
    "    myTurtle.forward(linelen)\n",
    "    myTurtle.right(90)\n",
    "    drawSpiral(myTurtle, linelen-10)\n",
    "\n",
    "\n",
    "drawSpiral(myTurtle, 80)"
   ]
  },
  {
   "cell_type": "code",
   "execution_count": null,
   "metadata": {},
   "outputs": [],
   "source": []
  }
 ],
 "metadata": {
  "kernelspec": {
   "display_name": "Python 3",
   "language": "python",
   "name": "python3"
  },
  "language_info": {
   "codemirror_mode": {
    "name": "ipython",
    "version": 3
   },
   "file_extension": ".py",
   "mimetype": "text/x-python",
   "name": "python",
   "nbconvert_exporter": "python",
   "pygments_lexer": "ipython3",
   "version": "3.7.3"
  }
 },
 "nbformat": 4,
 "nbformat_minor": 2
}
